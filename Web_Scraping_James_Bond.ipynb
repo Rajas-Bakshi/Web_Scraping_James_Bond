{
 "cells": [
  {
   "cell_type": "code",
   "execution_count": 1,
   "metadata": {},
   "outputs": [],
   "source": [
    "URL = \"https://en.wikipedia.org/wiki/James_Bond\"\n",
    "\n",
    "from gazpacho import get, Soup\n",
    "\n",
    "soup = Soup(get(URL))\n",
    "bond_data = soup.find(\"table\")[7]\n",
    "movies = bond_data.find(\"tr\")  "
   ]
  },
  {
   "cell_type": "markdown",
   "metadata": {},
   "source": [
    "#### Declaring empty lists."
   ]
  },
  {
   "cell_type": "code",
   "execution_count": 2,
   "metadata": {},
   "outputs": [],
   "source": [
    "name_of_movies = []\n",
    "year_of_movies = []\n",
    "Actor = []\n",
    "Director = []"
   ]
  },
  {
   "cell_type": "markdown",
   "metadata": {},
   "source": [
    "#### As name and year of movie does not repeat in the table it can be parsed directly."
   ]
  },
  {
   "cell_type": "code",
   "execution_count": 3,
   "metadata": {},
   "outputs": [],
   "source": [
    "for i in range (1, len(movies)):\n",
    "    name_of_movies.append(movies[i].find(\"td\")[0].text)      \n",
    "    year_of_movies.append(movies[i].find(\"td\")[1].text)"
   ]
  },
  {
   "cell_type": "markdown",
   "metadata": {},
   "source": [
    "#### Parsing Directors and Actors."
   ]
  },
  {
   "cell_type": "code",
   "execution_count": 4,
   "metadata": {},
   "outputs": [
    {
     "data": {
      "text/plain": [
       "'\\nfor i in range (0,len(name_of_movies)):\\n    print(name_of_movies[i], year_of_movies[i], Actor[i], Director[i], sep=\",\")\\n'"
      ]
     },
     "execution_count": 4,
     "metadata": {},
     "output_type": "execute_result"
    }
   ],
   "source": [
    "i = 1 \n",
    "while i < len(movies):                                         # Looping untill last entry in the table.\n",
    "    rowspan = movies[i].find(\"td\")[2].attrs.get(\"rowspan\")     # Finding how many times actor is repeated i.e Value of rowspan.\n",
    "    rowspan = int(rowspan) if rowspan is not None else 1       # If attribute rowpan exists convert it to int else set 1 as default.\n",
    "    Actor = Actor + [movies[i].find(\"td\")[2].text]* rowspan    # Repeat the actor for the length of rowspan.\n",
    "    i += rowspan                                               # Jump to the NEXT ACTOR.\n",
    "                                                               # Loop back until the total number of rowspan is not equal to total number of entries in table.\n",
    "    \n",
    "i = 1 \n",
    "while i < len(movies):\n",
    "    rowspan = movies[i].find(\"td\")[-1].attrs.get(\"rowspan\")\n",
    "    rowspan = int(rowspan) if rowspan is not None else 1\n",
    "    Director = Director + [movies[i].find(\"td\")[-1].text]* rowspan\n",
    "    i += rowspan\n",
    "    \n",
    "'''\n",
    "for i in range (0,len(name_of_movies)):\n",
    "    print(name_of_movies[i], year_of_movies[i], Actor[i], Director[i], sep=\",\")\n",
    "'''"
   ]
  },
  {
   "cell_type": "code",
   "execution_count": 5,
   "metadata": {},
   "outputs": [
    {
     "data": {
      "text/html": [
       "<div>\n",
       "<style scoped>\n",
       "    .dataframe tbody tr th:only-of-type {\n",
       "        vertical-align: middle;\n",
       "    }\n",
       "\n",
       "    .dataframe tbody tr th {\n",
       "        vertical-align: top;\n",
       "    }\n",
       "\n",
       "    .dataframe thead th {\n",
       "        text-align: right;\n",
       "    }\n",
       "</style>\n",
       "<table border=\"1\" class=\"dataframe\">\n",
       "  <thead>\n",
       "    <tr style=\"text-align: right;\">\n",
       "      <th></th>\n",
       "      <th>Movie</th>\n",
       "      <th>Year</th>\n",
       "      <th>Actor</th>\n",
       "      <th>Director</th>\n",
       "    </tr>\n",
       "  </thead>\n",
       "  <tbody>\n",
       "    <tr>\n",
       "      <th>0</th>\n",
       "      <td>Dr. No</td>\n",
       "      <td>1962</td>\n",
       "      <td>Sean Connery</td>\n",
       "      <td>Terence Young</td>\n",
       "    </tr>\n",
       "    <tr>\n",
       "      <th>1</th>\n",
       "      <td>From Russia with Love</td>\n",
       "      <td>1963</td>\n",
       "      <td>Sean Connery</td>\n",
       "      <td>Terence Young</td>\n",
       "    </tr>\n",
       "    <tr>\n",
       "      <th>2</th>\n",
       "      <td>Goldfinger</td>\n",
       "      <td>1964</td>\n",
       "      <td>Sean Connery</td>\n",
       "      <td>Guy Hamilton</td>\n",
       "    </tr>\n",
       "    <tr>\n",
       "      <th>3</th>\n",
       "      <td>Thunderball</td>\n",
       "      <td>1965</td>\n",
       "      <td>Sean Connery</td>\n",
       "      <td>Terence Young</td>\n",
       "    </tr>\n",
       "    <tr>\n",
       "      <th>4</th>\n",
       "      <td>You Only Live Twice</td>\n",
       "      <td>1967</td>\n",
       "      <td>Sean Connery</td>\n",
       "      <td>Lewis Gilbert</td>\n",
       "    </tr>\n",
       "  </tbody>\n",
       "</table>\n",
       "</div>"
      ],
      "text/plain": [
       "                   Movie  Year         Actor       Director\n",
       "0                 Dr. No  1962  Sean Connery  Terence Young\n",
       "1  From Russia with Love  1963  Sean Connery  Terence Young\n",
       "2             Goldfinger  1964  Sean Connery   Guy Hamilton\n",
       "3            Thunderball  1965  Sean Connery  Terence Young\n",
       "4    You Only Live Twice  1967  Sean Connery  Lewis Gilbert"
      ]
     },
     "execution_count": 5,
     "metadata": {},
     "output_type": "execute_result"
    }
   ],
   "source": [
    "import pandas as pd\n",
    "\n",
    "data = pd.DataFrame({\"Movie\":name_of_movies, \"Year\": year_of_movies, \"Actor\":Actor, \"Director\": Director})\n",
    "data.head()"
   ]
  },
  {
   "cell_type": "code",
   "execution_count": null,
   "metadata": {},
   "outputs": [],
   "source": []
  }
 ],
 "metadata": {
  "kernelspec": {
   "display_name": "Python 3",
   "language": "python",
   "name": "python3"
  },
  "language_info": {
   "codemirror_mode": {
    "name": "ipython",
    "version": 3
   },
   "file_extension": ".py",
   "mimetype": "text/x-python",
   "name": "python",
   "nbconvert_exporter": "python",
   "pygments_lexer": "ipython3",
   "version": "3.8.3"
  }
 },
 "nbformat": 4,
 "nbformat_minor": 4
}
